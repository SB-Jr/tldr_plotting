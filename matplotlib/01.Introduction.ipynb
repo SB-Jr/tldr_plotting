{
 "cells": [
  {
   "cell_type": "markdown",
   "metadata": {},
   "source": [
    "# Matplotlib"
   ]
  },
  {
   "cell_type": "markdown",
   "metadata": {},
   "source": [
    "<img src='assets/architecture.jpeg' />"
   ]
  },
  {
   "cell_type": "markdown",
   "metadata": {},
   "source": [
    "Matplotlib architecture is composed of 3 main layers:-\n",
    "\n",
    "- *The Back — End Layer*:- made up of the FigureCanvas, Renderer, Event.\n",
    "- *The Artist Layer*:- This is where much of the heavy lifting happens. Such as for writing a program or UI application to be shared with other developers\n",
    "- *The Scripting Layer*:- Made up of pyplot, as well as the layer for everyday purposes. This layer is considered a lighter scripting interface to simplify common tasks and for a quick and easy generation of graphics and plots."
   ]
  },
  {
   "cell_type": "markdown",
   "metadata": {},
   "source": [
    "## Layer Details"
   ]
  },
  {
   "cell_type": "markdown",
   "metadata": {},
   "source": [
    "### BackEnd layer\n",
    "\n",
    "This is the layer that supports other layers. It has 3 abstract interfaces:\n",
    "\n",
    "- **FigureCanvas**: `matplotlib.backend_bases.FigureCanvas` is the area on which the figure or image is drawn\n",
    "- **Renderer**: `matplotlib.backend_bases.Renderer` is the object that knows how to draw the figure on *FigureCanvas*\n",
    "- **Event**: `matplotlib.backend_bases.Event` is the handler for user inputs."
   ]
  },
  {
   "cell_type": "markdown",
   "metadata": {},
   "source": [
    "### Artist Layer\n",
    "\n",
    "The Artist object knows how to use the renderer to draw on FigureCanvas. All the objects drawn on matplotlib figure are an Artist instance .\n",
    "\n",
    "eg: Title, Lines, labels, images etc are all individual Artist instance.\n",
    "\n",
    "\n",
    "Types of Artist instances:\n",
    "- Primitive: such as Lines, Rectangles, Circles and Texts\n",
    "- Composite: such as Axis, Ticks, Axes and Figure\n",
    "\n",
    "\n",
    "The main object which handles other Artist instances is the **FigureArtist**.\n",
    "\n",
    "The most important composite artist is the *Axes* as it has the most matplotlib plotting APIs like manipulating axis lines, creating and manipulating grid or the plot background."
   ]
  },
  {
   "cell_type": "markdown",
   "metadata": {},
   "source": [
    "### Scripting Layer\n",
    "\n",
    "Scripting layer is like a light layer on top of the Artist layer to get the work done quickly without needing to use complicated Artist layer APIs.\n",
    "\n",
    "This is essentially the `matplotlib.pyplot` package that we use most of the time."
   ]
  },
  {
   "cell_type": "markdown",
   "metadata": {},
   "source": [
    "## Creating Plots"
   ]
  },
  {
   "cell_type": "markdown",
   "metadata": {},
   "source": [
    "### Creating Histogram using Artists"
   ]
  },
  {
   "cell_type": "code",
   "execution_count": 2,
   "metadata": {
    "execution": {
     "iopub.execute_input": "2020-10-22T06:18:01.235205Z",
     "iopub.status.busy": "2020-10-22T06:18:01.234168Z",
     "iopub.status.idle": "2020-10-22T06:18:01.248242Z",
     "shell.execute_reply": "2020-10-22T06:18:01.245779Z",
     "shell.execute_reply.started": "2020-10-22T06:18:01.235082Z"
    }
   },
   "outputs": [],
   "source": [
    "from matplotlib.figure import Figure\n",
    "fig = Figure()"
   ]
  },
  {
   "cell_type": "code",
   "execution_count": 3,
   "metadata": {
    "execution": {
     "iopub.execute_input": "2020-10-22T06:18:49.474541Z",
     "iopub.status.busy": "2020-10-22T06:18:49.473713Z",
     "iopub.status.idle": "2020-10-22T06:18:49.486164Z",
     "shell.execute_reply": "2020-10-22T06:18:49.482703Z",
     "shell.execute_reply.started": "2020-10-22T06:18:49.474462Z"
    }
   },
   "outputs": [],
   "source": [
    "import numpy as np\n",
    "np.random.seed(6)\n",
    "x = np.random.randn(2000)"
   ]
  },
  {
   "cell_type": "code",
   "execution_count": 6,
   "metadata": {
    "execution": {
     "iopub.execute_input": "2020-10-22T06:21:38.474997Z",
     "iopub.status.busy": "2020-10-22T06:21:38.474064Z",
     "iopub.status.idle": "2020-10-22T06:21:38.674042Z",
     "shell.execute_reply": "2020-10-22T06:21:38.672409Z",
     "shell.execute_reply.started": "2020-10-22T06:21:38.474892Z"
    }
   },
   "outputs": [
    {
     "name": "stderr",
     "output_type": "stream",
     "text": [
      "<ipython-input-6-d625109f2ea5>:3: MatplotlibDeprecationWarning: Adding an axes using the same arguments as a previous axes currently reuses the earlier instance.  In a future version, a new instance will always be created and returned.  Meanwhile, this warning can be suppressed, and the future behavior ensured, by passing a unique label to each axes instance.\n",
      "  axes = fig.add_subplot(111)\n"
     ]
    },
    {
     "data": {
      "text/plain": [
       "Text(0.5, 1.0, 'Artist Layer Histogram')"
      ]
     },
     "execution_count": 6,
     "metadata": {},
     "output_type": "execute_result"
    }
   ],
   "source": [
    "# create a 1 row and 1 col axes \n",
    "# and return the 1st axes on the figure\n",
    "axes = fig.add_subplot(111)\n",
    "# histogram with 100 bins\n",
    "axes.hist(x, 100)\n",
    "axes.set_title('Artist Layer Histogram')"
   ]
  },
  {
   "cell_type": "code",
   "execution_count": 11,
   "metadata": {
    "execution": {
     "iopub.execute_input": "2020-10-22T06:27:12.070173Z",
     "iopub.status.busy": "2020-10-22T06:27:12.069288Z",
     "iopub.status.idle": "2020-10-22T06:27:12.483221Z",
     "shell.execute_reply": "2020-10-22T06:27:12.482569Z",
     "shell.execute_reply.started": "2020-10-22T06:27:12.070070Z"
    }
   },
   "outputs": [],
   "source": [
    "fig.savefig('artist_histogram.png')"
   ]
  },
  {
   "cell_type": "markdown",
   "metadata": {},
   "source": [
    "<img src='artist_histogram.png' />"
   ]
  },
  {
   "cell_type": "markdown",
   "metadata": {},
   "source": [
    "### Creating Histogram usign Scripting Layer"
   ]
  },
  {
   "cell_type": "code",
   "execution_count": 12,
   "metadata": {
    "execution": {
     "iopub.execute_input": "2020-10-22T06:28:44.432362Z",
     "iopub.status.busy": "2020-10-22T06:28:44.431644Z",
     "iopub.status.idle": "2020-10-22T06:28:44.503858Z",
     "shell.execute_reply": "2020-10-22T06:28:44.501406Z",
     "shell.execute_reply.started": "2020-10-22T06:28:44.432289Z"
    }
   },
   "outputs": [],
   "source": [
    "import matplotlib.pyplot as plt\n",
    "import matplotlib as mpl"
   ]
  },
  {
   "cell_type": "code",
   "execution_count": 14,
   "metadata": {
    "execution": {
     "iopub.execute_input": "2020-10-22T06:29:42.348814Z",
     "iopub.status.busy": "2020-10-22T06:29:42.348208Z",
     "iopub.status.idle": "2020-10-22T06:29:42.911704Z",
     "shell.execute_reply": "2020-10-22T06:29:42.911033Z",
     "shell.execute_reply.started": "2020-10-22T06:29:42.348748Z"
    }
   },
   "outputs": [
    {
     "data": {
      "image/png": "[encoded data removed]",
      "text/plain": [
       "<Figure size 432x288 with 1 Axes>"
      ]
     },
     "metadata": {
      "needs_background": "light"
     },
     "output_type": "display_data"
    }
   ],
   "source": [
    "plt.hist(x, 100)\n",
    "plt.title('Scripting Layer Histogram')\n",
    "plt.savefig('scripting_histogram.png')"
   ]
  },
  {
   "cell_type": "markdown",
   "metadata": {},
   "source": [
    "<img src='scripting_histogram.png' />"
   ]
  },
  {
   "cell_type": "code",
   "execution_count": null,
   "metadata": {},
   "outputs": [],
   "source": []
  }
 ],
 "metadata": {
  "kernelspec": {
   "display_name": "Python 3",
   "language": "python",
   "name": "python3"
  },
  "language_info": {
   "codemirror_mode": {
    "name": "ipython",
    "version": 3
   },
   "file_extension": ".py",
   "mimetype": "text/x-python",
   "name": "python",
   "nbconvert_exporter": "python",
   "pygments_lexer": "ipython3",
   "version": "3.8.3"
  }
 },
 "nbformat": 4,
 "nbformat_minor": 4
}
